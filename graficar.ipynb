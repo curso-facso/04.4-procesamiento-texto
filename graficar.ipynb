{
 "cells": [
  {
   "cell_type": "code",
   "execution_count": null,
   "id": "2b45f620",
   "metadata": {},
   "outputs": [],
   "source": [
    "import pandas as pd\n",
    "import pickle\n",
    "import numpy as np\n",
    "import plotly.express as px\n",
    "import datamapplot as dmp\n"
   ]
  },
  {
   "cell_type": "code",
   "execution_count": null,
   "id": "7454da35",
   "metadata": {},
   "outputs": [],
   "source": [
    "# Cargar títulos de noticias \n",
    "data = pd.read_parquet(\"data/titulos.parquet\")\n",
    "docs = list(data.text)\n",
    "del data"
   ]
  },
  {
   "cell_type": "code",
   "execution_count": null,
   "id": "deb6e1d4",
   "metadata": {},
   "outputs": [],
   "source": [
    "# Cargar algunas cosas que están dentro del modelo\n",
    "with open('data/bertopic_results.pkl', 'rb') as f:\n",
    "    data = pickle.load(f)\n",
    "    topics = data['topics']\n",
    "    probs = data['probs']"
   ]
  },
  {
   "cell_type": "code",
   "execution_count": null,
   "id": "c8d11c59",
   "metadata": {},
   "outputs": [],
   "source": [
    "# Cargar el modelo completo\n",
    "with open('data/bertopic_model.pkl', 'rb') as f:\n",
    "    topic_model = pickle.load(f)\n"
   ]
  },
  {
   "cell_type": "code",
   "execution_count": null,
   "id": "b4342fd3",
   "metadata": {},
   "outputs": [],
   "source": [
    "# Cargar títulos creados por gemini\n",
    "with open(\"data/topic_titles.pkl\", 'rb') as f:\n",
    "    topic_titles = pickle.load(f)\n",
    "    \n"
   ]
  },
  {
   "cell_type": "code",
   "execution_count": null,
   "id": "0539393e",
   "metadata": {},
   "outputs": [],
   "source": [
    "# Cargar embeddings en d2\n",
    "with open(\"data/embeddings_2d.pkl\", \"rb\") as f:\n",
    "    embeddings_2d = pickle.load(f)"
   ]
  },
  {
   "cell_type": "code",
   "execution_count": null,
   "id": "1a2eef36",
   "metadata": {},
   "outputs": [],
   "source": []
  },
  {
   "cell_type": "code",
   "execution_count": null,
   "id": "1274c1c0",
   "metadata": {},
   "outputs": [],
   "source": [
    "# Actualizar el título de los tópicos por el conseguido con el modelo de google\n",
    "\n",
    "#  Obtener la información de los documentos\n",
    "docs_info = topic_model.get_document_info(docs)\n",
    "\n",
    "# Crear un diccionario a partir de la lista\n",
    "topic_id_to_title =  {i:topic_titles[i + 1 ]  for i in range(-1, len(topic_titles) - 1)    }\n",
    "\n",
    "#docs_info.head()\n",
    "docs_info[\"Topic_Title\"] = docs_info[\"Topic\"].map(topic_id_to_title)\n",
    "\n",
    "\n"
   ]
  },
  {
   "cell_type": "code",
   "execution_count": null,
   "id": "70b95031",
   "metadata": {},
   "outputs": [],
   "source": [
    "\n",
    "\n",
    "\n",
    "# Obtén los clusters (topics)\n",
    "topic_labels = np.array(topics)\n",
    "\n"
   ]
  },
  {
   "cell_type": "code",
   "execution_count": null,
   "id": "5c15d322",
   "metadata": {},
   "outputs": [],
   "source": [
    "docs_info.shape"
   ]
  },
  {
   "cell_type": "code",
   "execution_count": null,
   "id": "eaa2c0c6",
   "metadata": {},
   "outputs": [],
   "source": [
    "# Filtra los outliers (topic -1)\n",
    "mask = topic_labels != -1\n",
    "embeddings_2d_filtered = embeddings_2d[mask]\n",
    "topic_labels_filtered = topic_labels[mask]\n",
    "custom_labels_filtered = docs_info[\"Topic_Title\"][mask]\n",
    "titles_filtered = np.array(docs)[mask]  # docs debe ser la lista de títulos\n",
    "\n"
   ]
  },
  {
   "cell_type": "code",
   "execution_count": null,
   "id": "f433b742",
   "metadata": {},
   "outputs": [],
   "source": [
    "# Gráfico con plotly\n",
    "fig = px.scatter(\n",
    "    x=embeddings_2d_filtered[:, 0],\n",
    "    y=embeddings_2d_filtered[:, 1],\n",
    "    color=custom_labels_filtered.astype(str),\n",
    "    hover_name=titles_filtered,\n",
    "    hover_data={\"Tópico\": custom_labels_filtered},\n",
    "    labels={'color': 'Topic'},\n",
    "    title=\"Clusters de noticias por BERTopic (sin outliers)\"\n",
    ")\n",
    "fig.update_traces(marker=dict(size=8))\n",
    "fig.update_layout(showlegend=False)\n",
    "fig.show()"
   ]
  },
  {
   "cell_type": "code",
   "execution_count": null,
   "id": "1eb4e81f",
   "metadata": {},
   "outputs": [],
   "source": [
    "\n",
    "# Acomodar los nombres de los clusters para el paquete de visualización\n",
    "arr_str = custom_labels_filtered.astype(str)\n",
    "\n",
    "# Armar la leyenda que aparece en el hover\n",
    "combined_hover_text = [f\"NOTICIA: {title}\\nCLUSTER {text}\" for title, text in zip(titles_filtered, arr_str)]\n",
    "\n",
    "\n"
   ]
  },
  {
   "cell_type": "code",
   "execution_count": null,
   "id": "26f82343",
   "metadata": {},
   "outputs": [],
   "source": [
    "\n",
    "# Visualización\n",
    "plot = dmp.create_interactive_plot(\n",
    "    embeddings_2d_filtered,\n",
    "    arr_str,\n",
    "    hover_text=combined_hover_text\n",
    ")\n",
    "\n",
    "\n",
    "\n",
    "plot.save(\"topicos_noticias_prod.html\")\n",
    "\n",
    "plot"
   ]
  }
 ],
 "metadata": {
  "language_info": {
   "name": "python"
  }
 },
 "nbformat": 4,
 "nbformat_minor": 5
}
